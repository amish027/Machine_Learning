{
 "cells": [
  {
   "cell_type": "code",
   "execution_count": 2,
   "id": "ab433c85",
   "metadata": {},
   "outputs": [],
   "source": [
    "import pandas as pd \n",
    "import seaborn as sns\n",
    "import matplotlib.pyplot as plt\n",
    "from sklearn.linear_model import LinearRegression"
   ]
  },
  {
   "cell_type": "code",
   "execution_count": 3,
   "id": "795190df",
   "metadata": {},
   "outputs": [],
   "source": [
    "data = pd.read_csv(\"C:/Users/mdami/OneDrive/Documents/Project - 1&2_ Simple_Reg/Project - 1&2_ Simple_Reg/delivery_time.csv\")"
   ]
  },
  {
   "cell_type": "code",
   "execution_count": 4,
   "id": "d2f646c3",
   "metadata": {},
   "outputs": [
    {
     "name": "stdout",
     "output_type": "stream",
     "text": [
      "    Delivery Time  Sorting Time\n",
      "0           21.00            10\n",
      "1           13.50             4\n",
      "2           19.75             6\n",
      "3           24.00             9\n",
      "4           29.00            10\n",
      "5           15.35             6\n",
      "6           19.00             7\n",
      "7            9.50             3\n",
      "8           17.90            10\n",
      "9           18.75             9\n",
      "10          19.83             8\n",
      "11          10.75             4\n",
      "12          16.68             7\n",
      "13          11.50             3\n",
      "14          12.03             3\n",
      "15          14.88             4\n",
      "16          13.75             6\n",
      "17          18.11             7\n",
      "18           8.00             2\n",
      "19          17.83             7\n",
      "20          21.50             5\n"
     ]
    }
   ],
   "source": [
    "print(data)"
   ]
  },
  {
   "cell_type": "code",
   "execution_count": 5,
   "id": "4e9f5587",
   "metadata": {},
   "outputs": [],
   "source": [
    "# exploratory data analysis"
   ]
  },
  {
   "cell_type": "code",
   "execution_count": 6,
   "id": "f4e96ac2",
   "metadata": {},
   "outputs": [
    {
     "name": "stdout",
     "output_type": "stream",
     "text": [
      "Index(['Delivery Time', 'Sorting Time'], dtype='object')\n"
     ]
    }
   ],
   "source": [
    "print(data.columns)"
   ]
  },
  {
   "cell_type": "code",
   "execution_count": 7,
   "id": "fc35569e",
   "metadata": {},
   "outputs": [
    {
     "name": "stdout",
     "output_type": "stream",
     "text": [
      "<bound method NDFrame.describe of     Delivery Time  Sorting Time\n",
      "0           21.00            10\n",
      "1           13.50             4\n",
      "2           19.75             6\n",
      "3           24.00             9\n",
      "4           29.00            10\n",
      "5           15.35             6\n",
      "6           19.00             7\n",
      "7            9.50             3\n",
      "8           17.90            10\n",
      "9           18.75             9\n",
      "10          19.83             8\n",
      "11          10.75             4\n",
      "12          16.68             7\n",
      "13          11.50             3\n",
      "14          12.03             3\n",
      "15          14.88             4\n",
      "16          13.75             6\n",
      "17          18.11             7\n",
      "18           8.00             2\n",
      "19          17.83             7\n",
      "20          21.50             5>\n"
     ]
    }
   ],
   "source": [
    "print(data.describe)"
   ]
  },
  {
   "cell_type": "code",
   "execution_count": null,
   "id": "0004a7cf",
   "metadata": {},
   "outputs": [],
   "source": []
  },
  {
   "cell_type": "code",
   "execution_count": 8,
   "id": "9eb4fa42",
   "metadata": {},
   "outputs": [
    {
     "name": "stdout",
     "output_type": "stream",
     "text": [
      "Delivery Time    0\n",
      "Sorting Time     0\n",
      "dtype: int64\n"
     ]
    }
   ],
   "source": [
    "print(data.isnull().sum())"
   ]
  },
  {
   "cell_type": "code",
   "execution_count": 9,
   "id": "19a20449",
   "metadata": {},
   "outputs": [
    {
     "name": "stdout",
     "output_type": "stream",
     "text": [
      "Delivery Time    float64\n",
      "Sorting Time       int64\n",
      "dtype: object\n"
     ]
    }
   ],
   "source": [
    "print(data.dtypes)"
   ]
  },
  {
   "cell_type": "code",
   "execution_count": 10,
   "id": "9b78e377",
   "metadata": {},
   "outputs": [
    {
     "name": "stdout",
     "output_type": "stream",
     "text": [
      "Rows and Columns- (21, 2)\n"
     ]
    }
   ],
   "source": [
    "print(\"Rows and Columns-\" , data.shape)"
   ]
  },
  {
   "cell_type": "code",
   "execution_count": 11,
   "id": "bc5dfbcc",
   "metadata": {},
   "outputs": [
    {
     "name": "stdout",
     "output_type": "stream",
     "text": [
      "   Delivery Time  Sorting Time\n",
      "0          21.00            10\n",
      "1          13.50             4\n",
      "2          19.75             6\n",
      "3          24.00             9\n",
      "4          29.00            10\n"
     ]
    }
   ],
   "source": [
    "print(data.head())"
   ]
  },
  {
   "cell_type": "code",
   "execution_count": 12,
   "id": "2766bb4f",
   "metadata": {},
   "outputs": [
    {
     "data": {
      "text/plain": [
       "<Axes: xlabel='Sorting Time', ylabel='Delivery Time'>"
      ]
     },
     "execution_count": 12,
     "metadata": {},
     "output_type": "execute_result"
    },
    {
     "data": {
      "image/png": "[encoded data removed]",
      "text/plain": [
       "<Figure size 500x400 with 1 Axes>"
      ]
     },
     "metadata": {},
     "output_type": "display_data"
    }
   ],
   "source": [
    "plt.figure(figsize=(5,4))\n",
    "sns.barplot(x= 'Sorting Time', y= 'Delivery Time', estimator= 'sum', errorbar= None, data=data )"
   ]
  },
  {
   "cell_type": "code",
   "execution_count": 23,
   "id": "0439e52a",
   "metadata": {},
   "outputs": [
    {
     "ename": "SyntaxError",
     "evalue": "invalid syntax (539039906.py, line 1)",
     "output_type": "error",
     "traceback": [
      "\u001b[1;36m  Cell \u001b[1;32mIn[23], line 1\u001b[1;36m\u001b[0m\n\u001b[1;33m    Using matplotlib.pyplot.imsave()\u001b[0m\n\u001b[1;37m          ^\u001b[0m\n\u001b[1;31mSyntaxError\u001b[0m\u001b[1;31m:\u001b[0m invalid syntax\n"
     ]
    }
   ],
   "source": [
    "Usingmatplotlib.pyplot.imsave()"
   ]
  },
  {
   "cell_type": "code",
   "execution_count": 14,
   "id": "28944f80",
   "metadata": {},
   "outputs": [
    {
     "data": {
      "text/plain": [
       "Text(0.5, 1.0, 'Outliers')"
      ]
     },
     "execution_count": 14,
     "metadata": {},
     "output_type": "execute_result"
    },
    {
     "data": {
      "image/png": "[encoded data removed]",
      "text/plain": [
       "<Figure size 500x400 with 1 Axes>"
      ]
     },
     "metadata": {},
     "output_type": "display_data"
    }
   ],
   "source": [
    "plt.figure(figsize=(5,4))\n",
    "sns.boxplot(x=data['Delivery Time'])\n",
    "plt.title('Outliers')"
   ]
  },
  {
   "cell_type": "code",
   "execution_count": 15,
   "id": "c5059e56",
   "metadata": {},
   "outputs": [
    {
     "data": {
      "text/plain": [
       "Text(0.5, 1.0, 'Scatter Plot')"
      ]
     },
     "execution_count": 15,
     "metadata": {},
     "output_type": "execute_result"
    },
    {
     "data": {
      "image/png": "[encoded data removed]",
      "text/plain": [
       "<Figure size 500x300 with 1 Axes>"
      ]
     },
     "metadata": {},
     "output_type": "display_data"
    }
   ],
   "source": [
    "plt.figure(figsize=(5,3))\n",
    "sns.scatterplot(x='Sorting Time', y='Delivery Time', data=data)\n",
    "plt.title('Scatter Plot')"
   ]
  },
  {
   "cell_type": "code",
   "execution_count": 16,
   "id": "b4a6ced2",
   "metadata": {},
   "outputs": [
    {
     "data": {
      "text/plain": [
       "Text(0.5, 1.0, 'Correlation Matrix')"
      ]
     },
     "execution_count": 16,
     "metadata": {},
     "output_type": "execute_result"
    },
    {
     "data": {
      "image/png": "[encoded data removed]",
      "text/plain": [
       "<Figure size 640x480 with 2 Axes>"
      ]
     },
     "metadata": {},
     "output_type": "display_data"
    }
   ],
   "source": [
    "c= data[['Delivery Time','Sorting Time']].corr()\n",
    "sns.heatmap(c, annot= True, cmap= 'RdBu')\n",
    "plt.title('Correlation Matrix')"
   ]
  },
  {
   "cell_type": "code",
   "execution_count": 17,
   "id": "b65ecc2e",
   "metadata": {},
   "outputs": [
    {
     "name": "stderr",
     "output_type": "stream",
     "text": [
      "C:\\Users\\mdami\\AppData\\Local\\Temp\\ipykernel_70716\\3282645187.py:2: FutureWarning: \n",
      "\n",
      "The `ci` parameter is deprecated. Use `errorbar=('ci', False)` for the same effect.\n",
      "\n",
      "  sns.lineplot(y='Delivery Time', x= 'Sorting Time', ci= False, data=data)\n"
     ]
    },
    {
     "data": {
      "text/plain": [
       "<Axes: xlabel='Sorting Time', ylabel='Delivery Time'>"
      ]
     },
     "execution_count": 17,
     "metadata": {},
     "output_type": "execute_result"
    },
    {
     "data": {
      "image/png": "[encoded data removed]",
      "text/plain": [
       "<Figure size 500x400 with 1 Axes>"
      ]
     },
     "metadata": {},
     "output_type": "display_data"
    }
   ],
   "source": [
    "plt.figure(figsize=(5,4))\n",
    "sns.lineplot(y='Delivery Time', x= 'Sorting Time', ci= False, data=data)"
   ]
  },
  {
   "cell_type": "code",
   "execution_count": 18,
   "id": "2c6edf68",
   "metadata": {},
   "outputs": [
    {
     "data": {
      "text/plain": [
       "Text(0.5, 1.0, 'Missing Values')"
      ]
     },
     "execution_count": 18,
     "metadata": {},
     "output_type": "execute_result"
    },
    {
     "data": {
      "image/png": "[encoded data removed]",
      "text/plain": [
       "<Figure size 640x480 with 2 Axes>"
      ]
     },
     "metadata": {},
     "output_type": "display_data"
    }
   ],
   "source": [
    "sns.heatmap(data.isnull(), cmap= 'viridis')\n",
    "plt.title('Missing Values')"
   ]
  },
  {
   "cell_type": "code",
   "execution_count": 19,
   "id": "00dee0b5",
   "metadata": {},
   "outputs": [],
   "source": [
    "x= data['Sorting Time'].values.reshape(-1,1)\n",
    "y= data['Delivery Time'].values.reshape(-1,1)"
   ]
  },
  {
   "cell_type": "code",
   "execution_count": 20,
   "id": "d2a50ecd",
   "metadata": {},
   "outputs": [
    {
     "data": {
      "text/plain": [
       "(array([[10],\n",
       "        [ 4],\n",
       "        [ 6],\n",
       "        [ 9],\n",
       "        [10],\n",
       "        [ 6],\n",
       "        [ 7],\n",
       "        [ 3],\n",
       "        [10],\n",
       "        [ 9],\n",
       "        [ 8],\n",
       "        [ 4],\n",
       "        [ 7],\n",
       "        [ 3],\n",
       "        [ 3],\n",
       "        [ 4],\n",
       "        [ 6],\n",
       "        [ 7],\n",
       "        [ 2],\n",
       "        [ 7],\n",
       "        [ 5]], dtype=int64),\n",
       " array([[21.  ],\n",
       "        [13.5 ],\n",
       "        [19.75],\n",
       "        [24.  ],\n",
       "        [29.  ],\n",
       "        [15.35],\n",
       "        [19.  ],\n",
       "        [ 9.5 ],\n",
       "        [17.9 ],\n",
       "        [18.75],\n",
       "        [19.83],\n",
       "        [10.75],\n",
       "        [16.68],\n",
       "        [11.5 ],\n",
       "        [12.03],\n",
       "        [14.88],\n",
       "        [13.75],\n",
       "        [18.11],\n",
       "        [ 8.  ],\n",
       "        [17.83],\n",
       "        [21.5 ]]))"
      ]
     },
     "execution_count": 20,
     "metadata": {},
     "output_type": "execute_result"
    }
   ],
   "source": [
    "x,y"
   ]
  },
  {
   "cell_type": "code",
   "execution_count": 21,
   "id": "c130b8db",
   "metadata": {},
   "outputs": [],
   "source": [
    "# Splitting of data into training and testing"
   ]
  },
  {
   "cell_type": "code",
   "execution_count": 22,
   "id": "19fd6d30",
   "metadata": {},
   "outputs": [],
   "source": [
    "from sklearn.model_selection import train_test_split"
   ]
  },
  {
   "cell_type": "code",
   "execution_count": 77,
   "id": "58953ee5",
   "metadata": {},
   "outputs": [],
   "source": [
    "x_train, x_test, y_train, y_test= train_test_split(x,y, test_size= 0.2)"
   ]
  },
  {
   "cell_type": "code",
   "execution_count": 78,
   "id": "1de7d621",
   "metadata": {},
   "outputs": [
    {
     "data": {
      "text/plain": [
       "((16, 1), (5, 1))"
      ]
     },
     "execution_count": 78,
     "metadata": {},
     "output_type": "execute_result"
    }
   ],
   "source": [
    "x_train.shape, x_test.shape"
   ]
  },
  {
   "cell_type": "code",
   "execution_count": 79,
   "id": "25162ae6",
   "metadata": {},
   "outputs": [
    {
     "data": {
      "text/plain": [
       "((16, 1), (5, 1))"
      ]
     },
     "execution_count": 79,
     "metadata": {},
     "output_type": "execute_result"
    }
   ],
   "source": [
    "y_train.shape, y_test.shape"
   ]
  },
  {
   "cell_type": "code",
   "execution_count": 80,
   "id": "b84cad7d",
   "metadata": {},
   "outputs": [],
   "source": [
    "# Modelling"
   ]
  },
  {
   "cell_type": "code",
   "execution_count": 81,
   "id": "a87271f3",
   "metadata": {},
   "outputs": [],
   "source": [
    "model= LinearRegression()"
   ]
  },
  {
   "cell_type": "code",
   "execution_count": 84,
   "id": "3b281a90",
   "metadata": {},
   "outputs": [
    {
     "name": "stdout",
     "output_type": "stream",
     "text": [
      "The model training is completed\n"
     ]
    }
   ],
   "source": [
    "model_train= model.fit(x_train, y_train)\n",
    "print(\"The model training is completed\")"
   ]
  },
  {
   "cell_type": "code",
   "execution_count": null,
   "id": "eb1d8e1b",
   "metadata": {},
   "outputs": [],
   "source": []
  },
  {
   "cell_type": "code",
   "execution_count": 85,
   "id": "3a5211fd",
   "metadata": {},
   "outputs": [],
   "source": [
    "# validating data"
   ]
  },
  {
   "cell_type": "code",
   "execution_count": 95,
   "id": "2aba0665",
   "metadata": {},
   "outputs": [
    {
     "data": {
      "text/plain": [
       "array([[16.48162077],\n",
       "       [12.22051141],\n",
       "       [10.80014162],\n",
       "       [20.74273013],\n",
       "       [12.22051141]])"
      ]
     },
     "execution_count": 95,
     "metadata": {},
     "output_type": "execute_result"
    }
   ],
   "source": [
    "pred= model.predict(x_test)\n",
    "pred"
   ]
  },
  {
   "cell_type": "code",
   "execution_count": 96,
   "id": "ac0aec2e",
   "metadata": {},
   "outputs": [],
   "source": [
    "from sklearn.metrics import r2_score, mean_squared_error"
   ]
  },
  {
   "cell_type": "code",
   "execution_count": 97,
   "id": "bf8114a6",
   "metadata": {},
   "outputs": [
    {
     "data": {
      "text/plain": [
       "0.81"
      ]
     },
     "execution_count": 97,
     "metadata": {},
     "output_type": "execute_result"
    }
   ],
   "source": [
    "round(r2_score(y_test,pred),2)"
   ]
  },
  {
   "cell_type": "code",
   "execution_count": 98,
   "id": "bf1be118",
   "metadata": {},
   "outputs": [],
   "source": [
    "# ACCURACY OF MODEL- 81 % "
   ]
  },
  {
   "cell_type": "code",
   "execution_count": null,
   "id": "486d8d1a",
   "metadata": {},
   "outputs": [],
   "source": []
  }
 ],
 "metadata": {
  "kernelspec": {
   "display_name": "Python 3 (ipykernel)",
   "language": "python",
   "name": "python3"
  },
  "language_info": {
   "codemirror_mode": {
    "name": "ipython",
    "version": 3
   },
   "file_extension": ".py",
   "mimetype": "text/x-python",
   "name": "python",
   "nbconvert_exporter": "python",
   "pygments_lexer": "ipython3",
   "version": "3.11.5"
  }
 },
 "nbformat": 4,
 "nbformat_minor": 5
}
